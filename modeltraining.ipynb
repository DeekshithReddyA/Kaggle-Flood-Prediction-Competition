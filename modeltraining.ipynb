{
 "cells": [
  {
   "cell_type": "code",
   "execution_count": 3,
   "metadata": {},
   "outputs": [],
   "source": [
    "import numpy as np\n",
    "import pandas as pd\n",
    "import pickle\n",
    "import torch\n",
    "import torch.nn as nn\n",
    "import torch.nn.functional as F\n",
    "from torchvision.transforms import ToTensor\n",
    "from torch.utils.data.dataloader import DataLoader\n",
    "from torch.utils.data import TensorDataset\n",
    "from torch.utils.data import random_split\n",
    "import sklearn\n",
    "from sklearn.impute import SimpleImputer\n",
    "from sklearn.preprocessing import MinMaxScaler\n",
    "from sklearn.model_selection import train_test_split\n",
    "from sklearn.linear_model import LinearRegression\n",
    "from sklearn.ensemble import RandomForestRegressor\n",
    "from sklearn.tree import DecisionTreeRegressor\n",
    "from sklearn.metrics import mean_squared_error\n",
    "from sklearn.metrics import r2_score\n",
    "from sklearn.metrics import accuracy_score\n",
    "import matplotlib.pyplot as plt\n",
    "import seaborn as sns\n",
    "import matplotlib\n",
    "%matplotlib inline\n",
    "\n",
    "pd.set_option('display.max_columns', None)\n",
    "pd.set_option('display.max_rows', 150)\n",
    "sns.set_style('darkgrid')\n",
    "matplotlib.rcParams['font.size'] = 14\n",
    "matplotlib.rcParams['figure.figsize'] = (10, 6)\n",
    "matplotlib.rcParams['figure.facecolor'] = '#00000000'"
   ]
  },
  {
   "cell_type": "code",
   "execution_count": 4,
   "metadata": {},
   "outputs": [],
   "source": [
    "train_inputs = pd.read_csv('train_df.csv')\n",
    "train_targets = pd.read_csv('train_targets.csv')\n",
    "val_inputs = pd.read_csv('val_df.csv')\n",
    "val_targets = pd.read_csv('val_targets.csv')\n",
    "test_inputs = pd.read_csv('test.csv')\n",
    "imputer = pickle.load(open('imputer.pkl','rb'))\n",
    "scaler = pickle.load(open('scaler.pkl','rb'))"
   ]
  },
  {
   "cell_type": "code",
   "execution_count": 5,
   "metadata": {},
   "outputs": [],
   "source": [
    "train_inputs.drop(['Unnamed: 0'],axis=1,inplace=True)\n",
    "train_targets.drop(['Unnamed: 0'],axis=1,inplace=True)\n",
    "val_inputs.drop(['Unnamed: 0'],axis=1,inplace=True)\n",
    "val_targets.drop(['Unnamed: 0'],axis=1,inplace=True)\n",
    "test_inputs.drop(['id'],axis=1,inplace=True)"
   ]
  },
  {
   "cell_type": "code",
   "execution_count": 6,
   "metadata": {},
   "outputs": [
    {
     "name": "stderr",
     "output_type": "stream",
     "text": [
      "C:\\Users\\deeks\\AppData\\Local\\Temp\\ipykernel_18428\\3940475973.py:2: FutureWarning: Setting an item of incompatible dtype is deprecated and will raise in a future error of pandas. Value '[0.25   0.25   0.0625 ... 0.3125 0.25   0.25  ]' has dtype incompatible with int64, please explicitly cast to a compatible dtype first.\n",
      "  test_inputs[:] = scaler.transform(test_inputs[:])\n",
      "C:\\Users\\deeks\\AppData\\Local\\Temp\\ipykernel_18428\\3940475973.py:2: FutureWarning: Setting an item of incompatible dtype is deprecated and will raise in a future error of pandas. Value '[0.33333333 0.22222222 0.16666667 ... 0.38888889 0.38888889 0.11111111]' has dtype incompatible with int64, please explicitly cast to a compatible dtype first.\n",
      "  test_inputs[:] = scaler.transform(test_inputs[:])\n",
      "C:\\Users\\deeks\\AppData\\Local\\Temp\\ipykernel_18428\\3940475973.py:2: FutureWarning: Setting an item of incompatible dtype is deprecated and will raise in a future error of pandas. Value '[0.1875 0.125  0.375  ... 0.5625 0.375  0.3125]' has dtype incompatible with int64, please explicitly cast to a compatible dtype first.\n",
      "  test_inputs[:] = scaler.transform(test_inputs[:])\n",
      "C:\\Users\\deeks\\AppData\\Local\\Temp\\ipykernel_18428\\3940475973.py:2: FutureWarning: Setting an item of incompatible dtype is deprecated and will raise in a future error of pandas. Value '[0.29411765 0.52941176 0.29411765 ... 0.29411765 0.17647059 0.17647059]' has dtype incompatible with int64, please explicitly cast to a compatible dtype first.\n",
      "  test_inputs[:] = scaler.transform(test_inputs[:])\n",
      "C:\\Users\\deeks\\AppData\\Local\\Temp\\ipykernel_18428\\3940475973.py:2: FutureWarning: Setting an item of incompatible dtype is deprecated and will raise in a future error of pandas. Value '[0.35294118 0.29411765 0.41176471 ... 0.29411765 0.29411765 0.47058824]' has dtype incompatible with int64, please explicitly cast to a compatible dtype first.\n",
      "  test_inputs[:] = scaler.transform(test_inputs[:])\n",
      "C:\\Users\\deeks\\AppData\\Local\\Temp\\ipykernel_18428\\3940475973.py:2: FutureWarning: Setting an item of incompatible dtype is deprecated and will raise in a future error of pandas. Value '[0.41176471 0.29411765 0.11764706 ... 0.35294118 0.11764706 0.23529412]' has dtype incompatible with int64, please explicitly cast to a compatible dtype first.\n",
      "  test_inputs[:] = scaler.transform(test_inputs[:])\n",
      "C:\\Users\\deeks\\AppData\\Local\\Temp\\ipykernel_18428\\3940475973.py:2: FutureWarning: Setting an item of incompatible dtype is deprecated and will raise in a future error of pandas. Value '[0.5    0.25   0.25   ... 0.4375 0.1875 0.3125]' has dtype incompatible with int64, please explicitly cast to a compatible dtype first.\n",
      "  test_inputs[:] = scaler.transform(test_inputs[:])\n",
      "C:\\Users\\deeks\\AppData\\Local\\Temp\\ipykernel_18428\\3940475973.py:2: FutureWarning: Setting an item of incompatible dtype is deprecated and will raise in a future error of pandas. Value '[0.4375 0.4375 0.375  ... 0.3125 0.5    0.1875]' has dtype incompatible with int64, please explicitly cast to a compatible dtype first.\n",
      "  test_inputs[:] = scaler.transform(test_inputs[:])\n",
      "C:\\Users\\deeks\\AppData\\Local\\Temp\\ipykernel_18428\\3940475973.py:2: FutureWarning: Setting an item of incompatible dtype is deprecated and will raise in a future error of pandas. Value '[0.5    0.3125 0.25   ... 0.3125 0.375  0.3125]' has dtype incompatible with int64, please explicitly cast to a compatible dtype first.\n",
      "  test_inputs[:] = scaler.transform(test_inputs[:])\n",
      "C:\\Users\\deeks\\AppData\\Local\\Temp\\ipykernel_18428\\3940475973.py:2: FutureWarning: Setting an item of incompatible dtype is deprecated and will raise in a future error of pandas. Value '[0.22222222 0.22222222 0.11111111 ... 0.16666667 0.38888889 0.33333333]' has dtype incompatible with int64, please explicitly cast to a compatible dtype first.\n",
      "  test_inputs[:] = scaler.transform(test_inputs[:])\n",
      "C:\\Users\\deeks\\AppData\\Local\\Temp\\ipykernel_18428\\3940475973.py:2: FutureWarning: Setting an item of incompatible dtype is deprecated and will raise in a future error of pandas. Value '[0.5    0.125  0.4375 ... 0.375  0.375  0.25  ]' has dtype incompatible with int64, please explicitly cast to a compatible dtype first.\n",
      "  test_inputs[:] = scaler.transform(test_inputs[:])\n",
      "C:\\Users\\deeks\\AppData\\Local\\Temp\\ipykernel_18428\\3940475973.py:2: FutureWarning: Setting an item of incompatible dtype is deprecated and will raise in a future error of pandas. Value '[0.29411765 0.23529412 0.52941176 ... 0.64705882 0.35294118 0.11764706]' has dtype incompatible with int64, please explicitly cast to a compatible dtype first.\n",
      "  test_inputs[:] = scaler.transform(test_inputs[:])\n",
      "C:\\Users\\deeks\\AppData\\Local\\Temp\\ipykernel_18428\\3940475973.py:2: FutureWarning: Setting an item of incompatible dtype is deprecated and will raise in a future error of pandas. Value '[0.41176471 0.41176471 0.11764706 ... 0.17647059 0.47058824 0.35294118]' has dtype incompatible with int64, please explicitly cast to a compatible dtype first.\n",
      "  test_inputs[:] = scaler.transform(test_inputs[:])\n",
      "C:\\Users\\deeks\\AppData\\Local\\Temp\\ipykernel_18428\\3940475973.py:2: FutureWarning: Setting an item of incompatible dtype is deprecated and will raise in a future error of pandas. Value '[0.3125 0.25   0.3125 ... 0.6875 0.375  0.625 ]' has dtype incompatible with int64, please explicitly cast to a compatible dtype first.\n",
      "  test_inputs[:] = scaler.transform(test_inputs[:])\n",
      "C:\\Users\\deeks\\AppData\\Local\\Temp\\ipykernel_18428\\3940475973.py:2: FutureWarning: Setting an item of incompatible dtype is deprecated and will raise in a future error of pandas. Value '[0.375  0.3125 0.3125 ... 0.25   0.125  0.25  ]' has dtype incompatible with int64, please explicitly cast to a compatible dtype first.\n",
      "  test_inputs[:] = scaler.transform(test_inputs[:])\n",
      "C:\\Users\\deeks\\AppData\\Local\\Temp\\ipykernel_18428\\3940475973.py:2: FutureWarning: Setting an item of incompatible dtype is deprecated and will raise in a future error of pandas. Value '[0.17647059 0.05882353 0.11764706 ... 0.29411765 0.17647059 0.17647059]' has dtype incompatible with int64, please explicitly cast to a compatible dtype first.\n",
      "  test_inputs[:] = scaler.transform(test_inputs[:])\n",
      "C:\\Users\\deeks\\AppData\\Local\\Temp\\ipykernel_18428\\3940475973.py:2: FutureWarning: Setting an item of incompatible dtype is deprecated and will raise in a future error of pandas. Value '[0.33333333 0.38888889 0.16666667 ... 0.5        0.44444444 0.5       ]' has dtype incompatible with int64, please explicitly cast to a compatible dtype first.\n",
      "  test_inputs[:] = scaler.transform(test_inputs[:])\n",
      "C:\\Users\\deeks\\AppData\\Local\\Temp\\ipykernel_18428\\3940475973.py:2: FutureWarning: Setting an item of incompatible dtype is deprecated and will raise in a future error of pandas. Value '[0.21052632 0.21052632 0.31578947 ... 0.26315789 0.36842105 0.42105263]' has dtype incompatible with int64, please explicitly cast to a compatible dtype first.\n",
      "  test_inputs[:] = scaler.transform(test_inputs[:])\n",
      "C:\\Users\\deeks\\AppData\\Local\\Temp\\ipykernel_18428\\3940475973.py:2: FutureWarning: Setting an item of incompatible dtype is deprecated and will raise in a future error of pandas. Value '[0.25   0.25   0.5    ... 0.3125 0.3125 0.375 ]' has dtype incompatible with int64, please explicitly cast to a compatible dtype first.\n",
      "  test_inputs[:] = scaler.transform(test_inputs[:])\n",
      "C:\\Users\\deeks\\AppData\\Local\\Temp\\ipykernel_18428\\3940475973.py:2: FutureWarning: Setting an item of incompatible dtype is deprecated and will raise in a future error of pandas. Value '[0.3125 0.1875 0.1875 ... 0.25   0.3125 0.1875]' has dtype incompatible with int64, please explicitly cast to a compatible dtype first.\n",
      "  test_inputs[:] = scaler.transform(test_inputs[:])\n"
     ]
    }
   ],
   "source": [
    "test_inputs[:] = imputer.transform(test_inputs[:])\n",
    "test_inputs[:] = scaler.transform(test_inputs[:])"
   ]
  },
  {
   "cell_type": "code",
   "execution_count": 7,
   "metadata": {},
   "outputs": [],
   "source": [
    "test_inputs.sort_index(axis=1,inplace=True)"
   ]
  },
  {
   "cell_type": "code",
   "execution_count": 8,
   "metadata": {},
   "outputs": [],
   "source": [
    "model = LinearRegression().fit(train_inputs,train_targets)"
   ]
  },
  {
   "cell_type": "code",
   "execution_count": 9,
   "metadata": {},
   "outputs": [
    {
     "data": {
      "text/html": [
       "<div>\n",
       "<style scoped>\n",
       "    .dataframe tbody tr th:only-of-type {\n",
       "        vertical-align: middle;\n",
       "    }\n",
       "\n",
       "    .dataframe tbody tr th {\n",
       "        vertical-align: top;\n",
       "    }\n",
       "\n",
       "    .dataframe thead th {\n",
       "        text-align: right;\n",
       "    }\n",
       "</style>\n",
       "<table border=\"1\" class=\"dataframe\">\n",
       "  <thead>\n",
       "    <tr style=\"text-align: right;\">\n",
       "      <th></th>\n",
       "      <th>AgriculturalPractices</th>\n",
       "      <th>ClimateChange</th>\n",
       "      <th>CoastalVulnerability</th>\n",
       "      <th>DamsQuality</th>\n",
       "      <th>Deforestation</th>\n",
       "      <th>DeterioratingInfrastructure</th>\n",
       "      <th>DrainageSystems</th>\n",
       "      <th>Encroachments</th>\n",
       "      <th>InadequatePlanning</th>\n",
       "      <th>IneffectiveDisasterPreparedness</th>\n",
       "      <th>Landslides</th>\n",
       "      <th>MonsoonIntensity</th>\n",
       "      <th>PoliticalFactors</th>\n",
       "      <th>PopulationScore</th>\n",
       "      <th>RiverManagement</th>\n",
       "      <th>Siltation</th>\n",
       "      <th>TopographyDrainage</th>\n",
       "      <th>Urbanization</th>\n",
       "      <th>Watersheds</th>\n",
       "      <th>WetlandLoss</th>\n",
       "    </tr>\n",
       "  </thead>\n",
       "  <tbody>\n",
       "    <tr>\n",
       "      <th>0</th>\n",
       "      <td>0.1875</td>\n",
       "      <td>0.176471</td>\n",
       "      <td>0.352941</td>\n",
       "      <td>0.8125</td>\n",
       "      <td>0.352941</td>\n",
       "      <td>0.294118</td>\n",
       "      <td>0.352941</td>\n",
       "      <td>0.111111</td>\n",
       "      <td>0.2500</td>\n",
       "      <td>0.3125</td>\n",
       "      <td>0.3750</td>\n",
       "      <td>0.5000</td>\n",
       "      <td>0.4375</td>\n",
       "      <td>0.111111</td>\n",
       "      <td>0.4375</td>\n",
       "      <td>0.5000</td>\n",
       "      <td>0.388889</td>\n",
       "      <td>0.235294</td>\n",
       "      <td>0.3125</td>\n",
       "      <td>0.315789</td>\n",
       "    </tr>\n",
       "    <tr>\n",
       "      <th>1</th>\n",
       "      <td>0.3750</td>\n",
       "      <td>0.294118</td>\n",
       "      <td>0.294118</td>\n",
       "      <td>0.4375</td>\n",
       "      <td>0.117647</td>\n",
       "      <td>0.117647</td>\n",
       "      <td>0.352941</td>\n",
       "      <td>0.111111</td>\n",
       "      <td>0.1875</td>\n",
       "      <td>0.1250</td>\n",
       "      <td>0.0000</td>\n",
       "      <td>0.4375</td>\n",
       "      <td>0.2500</td>\n",
       "      <td>0.277778</td>\n",
       "      <td>0.2500</td>\n",
       "      <td>0.1875</td>\n",
       "      <td>0.222222</td>\n",
       "      <td>0.235294</td>\n",
       "      <td>0.3750</td>\n",
       "      <td>0.210526</td>\n",
       "    </tr>\n",
       "    <tr>\n",
       "      <th>2</th>\n",
       "      <td>0.3750</td>\n",
       "      <td>0.411765</td>\n",
       "      <td>0.411765</td>\n",
       "      <td>0.1875</td>\n",
       "      <td>0.352941</td>\n",
       "      <td>0.235294</td>\n",
       "      <td>0.294118</td>\n",
       "      <td>0.222222</td>\n",
       "      <td>0.3125</td>\n",
       "      <td>0.2500</td>\n",
       "      <td>0.3750</td>\n",
       "      <td>0.3750</td>\n",
       "      <td>0.1875</td>\n",
       "      <td>0.500000</td>\n",
       "      <td>0.0625</td>\n",
       "      <td>0.3125</td>\n",
       "      <td>0.277778</td>\n",
       "      <td>0.352941</td>\n",
       "      <td>0.3125</td>\n",
       "      <td>0.157895</td>\n",
       "    </tr>\n",
       "    <tr>\n",
       "      <th>3</th>\n",
       "      <td>0.2500</td>\n",
       "      <td>0.176471</td>\n",
       "      <td>0.352941</td>\n",
       "      <td>0.0625</td>\n",
       "      <td>0.176471</td>\n",
       "      <td>0.235294</td>\n",
       "      <td>0.529412</td>\n",
       "      <td>0.333333</td>\n",
       "      <td>0.2500</td>\n",
       "      <td>0.4375</td>\n",
       "      <td>0.1250</td>\n",
       "      <td>0.2500</td>\n",
       "      <td>0.0625</td>\n",
       "      <td>0.388889</td>\n",
       "      <td>0.3750</td>\n",
       "      <td>0.3125</td>\n",
       "      <td>0.333333</td>\n",
       "      <td>0.176471</td>\n",
       "      <td>0.3125</td>\n",
       "      <td>0.368421</td>\n",
       "    </tr>\n",
       "    <tr>\n",
       "      <th>4</th>\n",
       "      <td>0.4375</td>\n",
       "      <td>0.235294</td>\n",
       "      <td>0.117647</td>\n",
       "      <td>0.3750</td>\n",
       "      <td>0.117647</td>\n",
       "      <td>0.294118</td>\n",
       "      <td>0.294118</td>\n",
       "      <td>0.333333</td>\n",
       "      <td>0.2500</td>\n",
       "      <td>0.1875</td>\n",
       "      <td>0.3750</td>\n",
       "      <td>0.3750</td>\n",
       "      <td>0.6250</td>\n",
       "      <td>0.277778</td>\n",
       "      <td>0.5000</td>\n",
       "      <td>0.3750</td>\n",
       "      <td>0.166667</td>\n",
       "      <td>0.411765</td>\n",
       "      <td>0.3750</td>\n",
       "      <td>0.210526</td>\n",
       "    </tr>\n",
       "    <tr>\n",
       "      <th>...</th>\n",
       "      <td>...</td>\n",
       "      <td>...</td>\n",
       "      <td>...</td>\n",
       "      <td>...</td>\n",
       "      <td>...</td>\n",
       "      <td>...</td>\n",
       "      <td>...</td>\n",
       "      <td>...</td>\n",
       "      <td>...</td>\n",
       "      <td>...</td>\n",
       "      <td>...</td>\n",
       "      <td>...</td>\n",
       "      <td>...</td>\n",
       "      <td>...</td>\n",
       "      <td>...</td>\n",
       "      <td>...</td>\n",
       "      <td>...</td>\n",
       "      <td>...</td>\n",
       "      <td>...</td>\n",
       "      <td>...</td>\n",
       "    </tr>\n",
       "    <tr>\n",
       "      <th>894360</th>\n",
       "      <td>0.2500</td>\n",
       "      <td>0.294118</td>\n",
       "      <td>0.411765</td>\n",
       "      <td>0.1875</td>\n",
       "      <td>0.235294</td>\n",
       "      <td>0.352941</td>\n",
       "      <td>0.117647</td>\n",
       "      <td>0.055556</td>\n",
       "      <td>0.3125</td>\n",
       "      <td>0.3125</td>\n",
       "      <td>0.1875</td>\n",
       "      <td>0.2500</td>\n",
       "      <td>0.3125</td>\n",
       "      <td>0.111111</td>\n",
       "      <td>0.3125</td>\n",
       "      <td>0.5000</td>\n",
       "      <td>0.388889</td>\n",
       "      <td>0.235294</td>\n",
       "      <td>0.4375</td>\n",
       "      <td>0.210526</td>\n",
       "    </tr>\n",
       "    <tr>\n",
       "      <th>894361</th>\n",
       "      <td>0.1250</td>\n",
       "      <td>0.411765</td>\n",
       "      <td>0.176471</td>\n",
       "      <td>0.3750</td>\n",
       "      <td>0.294118</td>\n",
       "      <td>0.411765</td>\n",
       "      <td>0.411765</td>\n",
       "      <td>0.444444</td>\n",
       "      <td>0.1875</td>\n",
       "      <td>0.1875</td>\n",
       "      <td>0.4375</td>\n",
       "      <td>0.1875</td>\n",
       "      <td>0.5000</td>\n",
       "      <td>0.166667</td>\n",
       "      <td>0.3750</td>\n",
       "      <td>0.5000</td>\n",
       "      <td>0.222222</td>\n",
       "      <td>0.294118</td>\n",
       "      <td>0.5625</td>\n",
       "      <td>0.105263</td>\n",
       "    </tr>\n",
       "    <tr>\n",
       "      <th>894362</th>\n",
       "      <td>0.1875</td>\n",
       "      <td>0.235294</td>\n",
       "      <td>0.294118</td>\n",
       "      <td>0.3750</td>\n",
       "      <td>0.117647</td>\n",
       "      <td>0.294118</td>\n",
       "      <td>0.235294</td>\n",
       "      <td>0.166667</td>\n",
       "      <td>0.4375</td>\n",
       "      <td>0.1875</td>\n",
       "      <td>0.1875</td>\n",
       "      <td>0.3125</td>\n",
       "      <td>0.4375</td>\n",
       "      <td>0.166667</td>\n",
       "      <td>0.0625</td>\n",
       "      <td>0.5000</td>\n",
       "      <td>0.222222</td>\n",
       "      <td>0.176471</td>\n",
       "      <td>0.2500</td>\n",
       "      <td>0.315789</td>\n",
       "    </tr>\n",
       "    <tr>\n",
       "      <th>894363</th>\n",
       "      <td>0.3125</td>\n",
       "      <td>0.352941</td>\n",
       "      <td>0.352941</td>\n",
       "      <td>0.1875</td>\n",
       "      <td>0.352941</td>\n",
       "      <td>0.294118</td>\n",
       "      <td>0.176471</td>\n",
       "      <td>0.166667</td>\n",
       "      <td>0.3125</td>\n",
       "      <td>0.3125</td>\n",
       "      <td>0.3750</td>\n",
       "      <td>0.3750</td>\n",
       "      <td>0.3125</td>\n",
       "      <td>0.222222</td>\n",
       "      <td>0.2500</td>\n",
       "      <td>0.1875</td>\n",
       "      <td>0.555556</td>\n",
       "      <td>0.176471</td>\n",
       "      <td>0.3125</td>\n",
       "      <td>0.210526</td>\n",
       "    </tr>\n",
       "    <tr>\n",
       "      <th>894364</th>\n",
       "      <td>0.3125</td>\n",
       "      <td>0.352941</td>\n",
       "      <td>0.235294</td>\n",
       "      <td>0.1250</td>\n",
       "      <td>0.294118</td>\n",
       "      <td>0.294118</td>\n",
       "      <td>0.352941</td>\n",
       "      <td>0.166667</td>\n",
       "      <td>0.2500</td>\n",
       "      <td>0.2500</td>\n",
       "      <td>0.3125</td>\n",
       "      <td>0.3125</td>\n",
       "      <td>0.4375</td>\n",
       "      <td>0.388889</td>\n",
       "      <td>0.1250</td>\n",
       "      <td>0.1875</td>\n",
       "      <td>0.388889</td>\n",
       "      <td>0.117647</td>\n",
       "      <td>0.3125</td>\n",
       "      <td>0.210526</td>\n",
       "    </tr>\n",
       "  </tbody>\n",
       "</table>\n",
       "<p>894365 rows × 20 columns</p>\n",
       "</div>"
      ],
      "text/plain": [
       "        AgriculturalPractices  ClimateChange  CoastalVulnerability  \\\n",
       "0                      0.1875       0.176471              0.352941   \n",
       "1                      0.3750       0.294118              0.294118   \n",
       "2                      0.3750       0.411765              0.411765   \n",
       "3                      0.2500       0.176471              0.352941   \n",
       "4                      0.4375       0.235294              0.117647   \n",
       "...                       ...            ...                   ...   \n",
       "894360                 0.2500       0.294118              0.411765   \n",
       "894361                 0.1250       0.411765              0.176471   \n",
       "894362                 0.1875       0.235294              0.294118   \n",
       "894363                 0.3125       0.352941              0.352941   \n",
       "894364                 0.3125       0.352941              0.235294   \n",
       "\n",
       "        DamsQuality  Deforestation  DeterioratingInfrastructure  \\\n",
       "0            0.8125       0.352941                     0.294118   \n",
       "1            0.4375       0.117647                     0.117647   \n",
       "2            0.1875       0.352941                     0.235294   \n",
       "3            0.0625       0.176471                     0.235294   \n",
       "4            0.3750       0.117647                     0.294118   \n",
       "...             ...            ...                          ...   \n",
       "894360       0.1875       0.235294                     0.352941   \n",
       "894361       0.3750       0.294118                     0.411765   \n",
       "894362       0.3750       0.117647                     0.294118   \n",
       "894363       0.1875       0.352941                     0.294118   \n",
       "894364       0.1250       0.294118                     0.294118   \n",
       "\n",
       "        DrainageSystems  Encroachments  InadequatePlanning  \\\n",
       "0              0.352941       0.111111              0.2500   \n",
       "1              0.352941       0.111111              0.1875   \n",
       "2              0.294118       0.222222              0.3125   \n",
       "3              0.529412       0.333333              0.2500   \n",
       "4              0.294118       0.333333              0.2500   \n",
       "...                 ...            ...                 ...   \n",
       "894360         0.117647       0.055556              0.3125   \n",
       "894361         0.411765       0.444444              0.1875   \n",
       "894362         0.235294       0.166667              0.4375   \n",
       "894363         0.176471       0.166667              0.3125   \n",
       "894364         0.352941       0.166667              0.2500   \n",
       "\n",
       "        IneffectiveDisasterPreparedness  Landslides  MonsoonIntensity  \\\n",
       "0                                0.3125      0.3750            0.5000   \n",
       "1                                0.1250      0.0000            0.4375   \n",
       "2                                0.2500      0.3750            0.3750   \n",
       "3                                0.4375      0.1250            0.2500   \n",
       "4                                0.1875      0.3750            0.3750   \n",
       "...                                 ...         ...               ...   \n",
       "894360                           0.3125      0.1875            0.2500   \n",
       "894361                           0.1875      0.4375            0.1875   \n",
       "894362                           0.1875      0.1875            0.3125   \n",
       "894363                           0.3125      0.3750            0.3750   \n",
       "894364                           0.2500      0.3125            0.3125   \n",
       "\n",
       "        PoliticalFactors  PopulationScore  RiverManagement  Siltation  \\\n",
       "0                 0.4375         0.111111           0.4375     0.5000   \n",
       "1                 0.2500         0.277778           0.2500     0.1875   \n",
       "2                 0.1875         0.500000           0.0625     0.3125   \n",
       "3                 0.0625         0.388889           0.3750     0.3125   \n",
       "4                 0.6250         0.277778           0.5000     0.3750   \n",
       "...                  ...              ...              ...        ...   \n",
       "894360            0.3125         0.111111           0.3125     0.5000   \n",
       "894361            0.5000         0.166667           0.3750     0.5000   \n",
       "894362            0.4375         0.166667           0.0625     0.5000   \n",
       "894363            0.3125         0.222222           0.2500     0.1875   \n",
       "894364            0.4375         0.388889           0.1250     0.1875   \n",
       "\n",
       "        TopographyDrainage  Urbanization  Watersheds  WetlandLoss  \n",
       "0                 0.388889      0.235294      0.3125     0.315789  \n",
       "1                 0.222222      0.235294      0.3750     0.210526  \n",
       "2                 0.277778      0.352941      0.3125     0.157895  \n",
       "3                 0.333333      0.176471      0.3125     0.368421  \n",
       "4                 0.166667      0.411765      0.3750     0.210526  \n",
       "...                    ...           ...         ...          ...  \n",
       "894360            0.388889      0.235294      0.4375     0.210526  \n",
       "894361            0.222222      0.294118      0.5625     0.105263  \n",
       "894362            0.222222      0.176471      0.2500     0.315789  \n",
       "894363            0.555556      0.176471      0.3125     0.210526  \n",
       "894364            0.388889      0.117647      0.3125     0.210526  \n",
       "\n",
       "[894365 rows x 20 columns]"
      ]
     },
     "execution_count": 9,
     "metadata": {},
     "output_type": "execute_result"
    }
   ],
   "source": [
    "train_inputs"
   ]
  },
  {
   "cell_type": "code",
   "execution_count": 10,
   "metadata": {},
   "outputs": [],
   "source": [
    "# model2 = DecisionTreeRegressor(criterion='friedman_mse',max_depth=7,random_state=42)\n",
    "# model2.fit(train_inputs ,train_targets)"
   ]
  },
  {
   "cell_type": "code",
   "execution_count": 11,
   "metadata": {},
   "outputs": [],
   "source": [
    "train_preds = model.predict(train_inputs)\n",
    "# train_preds2 = model2.predict(train_inputs)"
   ]
  },
  {
   "cell_type": "code",
   "execution_count": 12,
   "metadata": {},
   "outputs": [],
   "source": [
    "# for i in range(len(train_preds)):\n",
    "#     train_preds[i] = np.round_(train_preds[i],decimals=2)"
   ]
  },
  {
   "cell_type": "code",
   "execution_count": 13,
   "metadata": {},
   "outputs": [
    {
     "name": "stdout",
     "output_type": "stream",
     "text": [
      "Mean Squared Error: 0.00040382082284423794\n"
     ]
    }
   ],
   "source": [
    "mse = mean_squared_error(train_targets, train_preds)\n",
    "print(\"Mean Squared Error:\", mse)"
   ]
  },
  {
   "cell_type": "code",
   "execution_count": 14,
   "metadata": {},
   "outputs": [
    {
     "name": "stdout",
     "output_type": "stream",
     "text": [
      "R-squared: 0.8449678970612999\n"
     ]
    }
   ],
   "source": [
    "r2 = r2_score(train_targets, train_preds)\n",
    "print(\"R-squared:\", r2)\n"
   ]
  },
  {
   "cell_type": "code",
   "execution_count": 15,
   "metadata": {},
   "outputs": [],
   "source": [
    "val_preds = model.predict(val_inputs)"
   ]
  },
  {
   "cell_type": "code",
   "execution_count": 16,
   "metadata": {},
   "outputs": [
    {
     "name": "stdout",
     "output_type": "stream",
     "text": [
      "R-squared: 0.8448773362840336\n"
     ]
    }
   ],
   "source": [
    "r2 = r2_score(val_targets, val_preds)\n",
    "print(\"R-squared:\", r2)\n"
   ]
  },
  {
   "cell_type": "code",
   "execution_count": 17,
   "metadata": {},
   "outputs": [],
   "source": [
    "test_preds = model.predict(test_inputs)"
   ]
  },
  {
   "cell_type": "code",
   "execution_count": 18,
   "metadata": {},
   "outputs": [
    {
     "data": {
      "text/plain": [
       "array([[0.5736127 ],\n",
       "       [0.45527103],\n",
       "       [0.45475176],\n",
       "       ...,\n",
       "       [0.62431333],\n",
       "       [0.55093432],\n",
       "       [0.51152177]])"
      ]
     },
     "execution_count": 18,
     "metadata": {},
     "output_type": "execute_result"
    }
   ],
   "source": [
    "test_preds"
   ]
  },
  {
   "cell_type": "code",
   "execution_count": 19,
   "metadata": {},
   "outputs": [
    {
     "data": {
      "text/plain": [
       "745305"
      ]
     },
     "execution_count": 19,
     "metadata": {},
     "output_type": "execute_result"
    }
   ],
   "source": [
    "len(test_preds)"
   ]
  },
  {
   "cell_type": "code",
   "execution_count": 20,
   "metadata": {},
   "outputs": [],
   "source": [
    "# for i in range(len(test_preds)):\n",
    "#     test_preds[i] = np.round_(test_preds[i],decimals=2)"
   ]
  },
  {
   "cell_type": "code",
   "execution_count": 21,
   "metadata": {},
   "outputs": [],
   "source": [
    "# test_preds"
   ]
  },
  {
   "cell_type": "code",
   "execution_count": 23,
   "metadata": {},
   "outputs": [],
   "source": [
    "sub_file = pd.read_csv('sample_submission.csv')"
   ]
  },
  {
   "cell_type": "code",
   "execution_count": 24,
   "metadata": {},
   "outputs": [],
   "source": [
    "sub_file.FloodProbability = test_preds"
   ]
  },
  {
   "cell_type": "code",
   "execution_count": 25,
   "metadata": {},
   "outputs": [
    {
     "data": {
      "text/html": [
       "<div>\n",
       "<style scoped>\n",
       "    .dataframe tbody tr th:only-of-type {\n",
       "        vertical-align: middle;\n",
       "    }\n",
       "\n",
       "    .dataframe tbody tr th {\n",
       "        vertical-align: top;\n",
       "    }\n",
       "\n",
       "    .dataframe thead th {\n",
       "        text-align: right;\n",
       "    }\n",
       "</style>\n",
       "<table border=\"1\" class=\"dataframe\">\n",
       "  <thead>\n",
       "    <tr style=\"text-align: right;\">\n",
       "      <th></th>\n",
       "      <th>id</th>\n",
       "      <th>FloodProbability</th>\n",
       "    </tr>\n",
       "  </thead>\n",
       "  <tbody>\n",
       "    <tr>\n",
       "      <th>0</th>\n",
       "      <td>1117957</td>\n",
       "      <td>0.573613</td>\n",
       "    </tr>\n",
       "    <tr>\n",
       "      <th>1</th>\n",
       "      <td>1117958</td>\n",
       "      <td>0.455271</td>\n",
       "    </tr>\n",
       "    <tr>\n",
       "      <th>2</th>\n",
       "      <td>1117959</td>\n",
       "      <td>0.454752</td>\n",
       "    </tr>\n",
       "    <tr>\n",
       "      <th>3</th>\n",
       "      <td>1117960</td>\n",
       "      <td>0.466179</td>\n",
       "    </tr>\n",
       "    <tr>\n",
       "      <th>4</th>\n",
       "      <td>1117961</td>\n",
       "      <td>0.466085</td>\n",
       "    </tr>\n",
       "    <tr>\n",
       "      <th>...</th>\n",
       "      <td>...</td>\n",
       "      <td>...</td>\n",
       "    </tr>\n",
       "    <tr>\n",
       "      <th>745300</th>\n",
       "      <td>1863257</td>\n",
       "      <td>0.477201</td>\n",
       "    </tr>\n",
       "    <tr>\n",
       "      <th>745301</th>\n",
       "      <td>1863258</td>\n",
       "      <td>0.449381</td>\n",
       "    </tr>\n",
       "    <tr>\n",
       "      <th>745302</th>\n",
       "      <td>1863259</td>\n",
       "      <td>0.624313</td>\n",
       "    </tr>\n",
       "    <tr>\n",
       "      <th>745303</th>\n",
       "      <td>1863260</td>\n",
       "      <td>0.550934</td>\n",
       "    </tr>\n",
       "    <tr>\n",
       "      <th>745304</th>\n",
       "      <td>1863261</td>\n",
       "      <td>0.511522</td>\n",
       "    </tr>\n",
       "  </tbody>\n",
       "</table>\n",
       "<p>745305 rows × 2 columns</p>\n",
       "</div>"
      ],
      "text/plain": [
       "             id  FloodProbability\n",
       "0       1117957          0.573613\n",
       "1       1117958          0.455271\n",
       "2       1117959          0.454752\n",
       "3       1117960          0.466179\n",
       "4       1117961          0.466085\n",
       "...         ...               ...\n",
       "745300  1863257          0.477201\n",
       "745301  1863258          0.449381\n",
       "745302  1863259          0.624313\n",
       "745303  1863260          0.550934\n",
       "745304  1863261          0.511522\n",
       "\n",
       "[745305 rows x 2 columns]"
      ]
     },
     "execution_count": 25,
     "metadata": {},
     "output_type": "execute_result"
    }
   ],
   "source": [
    "sub_file\n"
   ]
  },
  {
   "cell_type": "code",
   "execution_count": 26,
   "metadata": {},
   "outputs": [],
   "source": [
    "sub_file.to_csv('submission.csv', index=None)"
   ]
  },
  {
   "cell_type": "code",
   "execution_count": null,
   "metadata": {},
   "outputs": [],
   "source": []
  },
  {
   "cell_type": "markdown",
   "metadata": {},
   "source": []
  },
  {
   "cell_type": "code",
   "execution_count": null,
   "metadata": {},
   "outputs": [],
   "source": [
    "# train_inputs"
   ]
  },
  {
   "cell_type": "code",
   "execution_count": null,
   "metadata": {},
   "outputs": [],
   "source": [
    "# features = torch.tensor(train_inputs.values, dtype=torch.float32)\n",
    "# labels = torch.tensor(train_targets.values, dtype=torch.float32)\n",
    "# features_v = torch.tensor(val_inputs.values, dtype=torch.float32)\n",
    "# labels_v = torch.tensor(val_targets.values, dtype=torch.float32)\n",
    "\n",
    "# # Split data\n",
    "\n",
    "# # Create data loaders\n",
    "# train_dataset = TensorDataset(features)\n",
    "# val_dataset  = TensorDataset(features_v)\n",
    "\n",
    "# batch_size = 64\n",
    "# train_loader = DataLoader(train_dataset, batch_size=batch_size, shuffle=True)\n",
    "# val_loader = DataLoader(val_dataset, batch_size=batch_size, shuffle=False)"
   ]
  },
  {
   "cell_type": "code",
   "execution_count": null,
   "metadata": {},
   "outputs": [],
   "source": [
    "# def accuracy(outputs, labels):\n",
    "#     r2 = r2_score(outputs, labels)\n",
    "#     print(\"R-squared:\", r2)\n"
   ]
  },
  {
   "cell_type": "code",
   "execution_count": null,
   "metadata": {},
   "outputs": [],
   "source": [
    "# class ImageClassificationBase(nn.Module):\n",
    "#     def training_step(self, batch):\n",
    "#         images, labels = batch \n",
    "#         out = self(images)                  # Generate predictions\n",
    "#         loss = F.cross_entropy(out, labels) # Calculate loss\n",
    "#         return loss\n",
    "    \n",
    "#     def validation_step(self, batch):\n",
    "#         images, labels = batch \n",
    "#         out = self(images)                    # Generate predictions\n",
    "#         loss = F.cross_entropy(out, labels)   # Calculate loss\n",
    "#         acc = accuracy(out, labels)           # Calculate accuracy\n",
    "#         return {'val_loss': loss, 'val_acc': acc}\n",
    "        \n",
    "#     def validation_epoch_end(self, outputs):\n",
    "#         batch_losses = [x['val_loss'] for x in outputs]\n",
    "#         epoch_loss = torch.stack(batch_losses).mean()   # Combine losses\n",
    "#         batch_accs = [x['val_acc'] for x in outputs]\n",
    "#         epoch_acc = torch.stack(batch_accs).mean()      # Combine accuracies\n",
    "#         return {'val_loss': epoch_loss.item(), 'val_acc': epoch_acc.item()}\n",
    "    \n",
    "#     def epoch_end(self, epoch, result):\n",
    "#         print(\"Epoch [{}], val_loss: {:.4f}, val_acc: {:.4f}\".format(epoch, result['val_loss'], result['val_acc']))"
   ]
  },
  {
   "cell_type": "code",
   "execution_count": null,
   "metadata": {},
   "outputs": [],
   "source": [
    "# def evaluate(model, val_loader):\n",
    "#     outputs = [model.validation_step(batch) for batch in val_loader]\n",
    "#     return model.validation_epoch_end(outputs)\n",
    "\n",
    "# def fit(epochs, lr, model, train_loader, val_loader, opt_func=torch.optim.SGD):\n",
    "#     history = []\n",
    "#     optimizer = opt_func(model.parameters(), lr)\n",
    "#     for epoch in range(epochs):\n",
    "#         # Training Phase \n",
    "#         for batch in train_loader:\n",
    "#             loss = model.training_step(batch)\n",
    "#             loss.backward()\n",
    "#             optimizer.step()\n",
    "#             optimizer.zero_grad()\n",
    "#         # Validation phase\n",
    "#         result = evaluate(model, val_loader)\n",
    "#         model.epoch_end(epoch, result)\n",
    "#         history.append(result)\n",
    "#     return history"
   ]
  },
  {
   "cell_type": "code",
   "execution_count": null,
   "metadata": {},
   "outputs": [],
   "source": [
    "# torch.cuda.is_available()"
   ]
  },
  {
   "cell_type": "code",
   "execution_count": null,
   "metadata": {},
   "outputs": [],
   "source": [
    "# def get_default_device():\n",
    "#     \"\"\"Pick GPU if available, else CPU\"\"\"\n",
    "#     if torch.cuda.is_available():\n",
    "#         return torch.device('cuda')\n",
    "#     else:\n",
    "#         return torch.device('cpu')"
   ]
  },
  {
   "cell_type": "code",
   "execution_count": null,
   "metadata": {},
   "outputs": [],
   "source": [
    "# device = get_default_device()\n",
    "# device"
   ]
  },
  {
   "cell_type": "code",
   "execution_count": null,
   "metadata": {},
   "outputs": [],
   "source": [
    "# def to_device(data, device):\n",
    "#     \"\"\"Move tensor(s) to chosen device\"\"\"\n",
    "#     if isinstance(data, (list,tuple)):\n",
    "#         return [to_device(x, device) for x in data]\n",
    "#     return data.to(device, non_blocking=True)\n",
    "\n",
    "# class DeviceDataLoader():\n",
    "#     \"\"\"Wrap a dataloader to move data to a device\"\"\"\n",
    "#     def __init__(self, dl, device):\n",
    "#         self.dl = dl\n",
    "#         self.device = device\n",
    "        \n",
    "#     def __iter__(self):\n",
    "#         \"\"\"Yield a batch of data after moving it to device\"\"\"\n",
    "#         for b in self.dl: \n",
    "#             yield to_device(b, self.device)\n",
    "\n",
    "#     def __len__(self):\n",
    "#         \"\"\"Number of batches\"\"\"\n",
    "#         return len(self.dl)"
   ]
  },
  {
   "cell_type": "code",
   "execution_count": null,
   "metadata": {},
   "outputs": [],
   "source": [
    "# def plot_losses(history):\n",
    "#     losses = [x['val_loss'] for x in history]\n",
    "#     plt.plot(losses, '-x')\n",
    "#     plt.xlabel('epoch')\n",
    "#     plt.ylabel('loss')\n",
    "#     plt.title('Loss vs. No. of epochs');"
   ]
  },
  {
   "cell_type": "code",
   "execution_count": null,
   "metadata": {},
   "outputs": [],
   "source": [
    "# def plot_accuracies(history):\n",
    "#     accuracies = [x['val_acc'] for x in history]\n",
    "#     plt.plot(accuracies, '-x')\n",
    "#     plt.xlabel('epoch')\n",
    "#     plt.ylabel('accuracy')\n",
    "#     plt.title('Accuracy vs. No. of epochs');"
   ]
  },
  {
   "cell_type": "code",
   "execution_count": null,
   "metadata": {},
   "outputs": [],
   "source": [
    "# train_loader = DeviceDataLoader(train_loader, device)\n",
    "# val_loader = DeviceDataLoader(val_loader, device)\n",
    "# # test_loader = DeviceDataLoader(test_loader, device)"
   ]
  },
  {
   "cell_type": "code",
   "execution_count": null,
   "metadata": {},
   "outputs": [],
   "source": []
  },
  {
   "cell_type": "code",
   "execution_count": null,
   "metadata": {},
   "outputs": [],
   "source": [
    "# class CIFAR10Model(ImageClassificationBase):\n",
    "#     def __init__(self):\n",
    "#         super().__init__()\n",
    "#         self.linear1 = nn.Linear(train_inputs.shape[1] , 1536)\n",
    "#         self.linear2 = nn.Linear(1536 ,768)\n",
    "#         self.linear3 = nn.Linear(768, 64)\n",
    "#         self.linear4 = nn.Linear(64 , 32)\n",
    "#         self.linear5 = nn.Linear(32 ,1)\n",
    "        \n",
    "#     def forward(self, xb):\n",
    "#         # Flatten images into vectors\n",
    "#         # Apply layers & activation functions\n",
    "#         out = self.linear1(out)\n",
    "#         out = F.relu(out)\n",
    "#         out = self.linear2(out)\n",
    "#         out = F.relu(out)\n",
    "#         out = self.linear3(out)\n",
    "#         out = F.relu(out)\n",
    "#         out = self.linear4(out)\n",
    "#         out = F.relu(out)\n",
    "#         out = self.linear5(out)\n",
    "#         return out"
   ]
  },
  {
   "cell_type": "code",
   "execution_count": null,
   "metadata": {},
   "outputs": [],
   "source": [
    "# model = to_device(CIFAR10Model(), device)"
   ]
  },
  {
   "cell_type": "code",
   "execution_count": null,
   "metadata": {},
   "outputs": [],
   "source": [
    "# history = [evaluate(model, val_loader)]\n",
    "# history"
   ]
  }
 ],
 "metadata": {
  "kernelspec": {
   "display_name": "Python 3",
   "language": "python",
   "name": "python3"
  },
  "language_info": {
   "codemirror_mode": {
    "name": "ipython",
    "version": 3
   },
   "file_extension": ".py",
   "mimetype": "text/x-python",
   "name": "python",
   "nbconvert_exporter": "python",
   "pygments_lexer": "ipython3",
   "version": "3.12.3"
  }
 },
 "nbformat": 4,
 "nbformat_minor": 2
}
